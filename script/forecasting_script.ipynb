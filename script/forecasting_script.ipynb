{
 "cells": [
  {
   "cell_type": "code",
   "execution_count": 11,
   "id": "53d84858-be1d-44d8-92ff-b1a702a17731",
   "metadata": {},
   "outputs": [
    {
     "name": "stdout",
     "output_type": "stream",
     "text": [
      "Defaulting to user installation because normal site-packages is not writeable\n",
      "Requirement already satisfied: prophet in c:\\users\\ake\\appdata\\roaming\\python\\python311\\site-packages (1.1.7)\n",
      "Requirement already satisfied: cmdstanpy>=1.0.4 in c:\\users\\ake\\appdata\\roaming\\python\\python311\\site-packages (from prophet) (1.2.5)\n",
      "Requirement already satisfied: numpy>=1.15.4 in c:\\users\\ake\\appdata\\roaming\\python\\python311\\site-packages (from prophet) (1.26.4)\n",
      "Requirement already satisfied: matplotlib>=2.0.0 in c:\\users\\ake\\appdata\\roaming\\python\\python311\\site-packages (from prophet) (3.8.3)\n",
      "Requirement already satisfied: pandas>=1.0.4 in c:\\users\\ake\\appdata\\roaming\\python\\python311\\site-packages (from prophet) (2.2.0)\n",
      "Requirement already satisfied: holidays<1,>=0.25 in c:\\users\\ake\\appdata\\roaming\\python\\python311\\site-packages (from prophet) (0.76)\n",
      "Requirement already satisfied: tqdm>=4.36.1 in c:\\users\\ake\\appdata\\roaming\\python\\python311\\site-packages (from prophet) (4.67.1)\n",
      "Requirement already satisfied: importlib_resources in c:\\users\\ake\\appdata\\roaming\\python\\python311\\site-packages (from prophet) (6.5.2)\n",
      "Requirement already satisfied: python-dateutil in c:\\users\\ake\\appdata\\roaming\\python\\python311\\site-packages (from holidays<1,>=0.25->prophet) (2.8.2)\n",
      "Requirement already satisfied: stanio<2.0.0,>=0.4.0 in c:\\users\\ake\\appdata\\roaming\\python\\python311\\site-packages (from cmdstanpy>=1.0.4->prophet) (0.5.1)\n",
      "Requirement already satisfied: contourpy>=1.0.1 in c:\\users\\ake\\appdata\\roaming\\python\\python311\\site-packages (from matplotlib>=2.0.0->prophet) (1.2.0)\n",
      "Requirement already satisfied: cycler>=0.10 in c:\\users\\ake\\appdata\\roaming\\python\\python311\\site-packages (from matplotlib>=2.0.0->prophet) (0.12.1)\n",
      "Requirement already satisfied: fonttools>=4.22.0 in c:\\users\\ake\\appdata\\roaming\\python\\python311\\site-packages (from matplotlib>=2.0.0->prophet) (4.49.0)\n",
      "Requirement already satisfied: kiwisolver>=1.3.1 in c:\\users\\ake\\appdata\\roaming\\python\\python311\\site-packages (from matplotlib>=2.0.0->prophet) (1.4.5)\n",
      "Requirement already satisfied: packaging>=20.0 in c:\\users\\ake\\appdata\\roaming\\python\\python311\\site-packages (from matplotlib>=2.0.0->prophet) (23.2)\n",
      "Requirement already satisfied: pillow>=8 in c:\\users\\ake\\appdata\\roaming\\python\\python311\\site-packages (from matplotlib>=2.0.0->prophet) (10.2.0)\n",
      "Requirement already satisfied: pyparsing>=2.3.1 in c:\\users\\ake\\appdata\\roaming\\python\\python311\\site-packages (from matplotlib>=2.0.0->prophet) (3.1.1)\n",
      "Requirement already satisfied: pytz>=2020.1 in c:\\users\\ake\\appdata\\roaming\\python\\python311\\site-packages (from pandas>=1.0.4->prophet) (2024.1)\n",
      "Requirement already satisfied: tzdata>=2022.7 in c:\\users\\ake\\appdata\\roaming\\python\\python311\\site-packages (from pandas>=1.0.4->prophet) (2024.1)\n",
      "Requirement already satisfied: six>=1.5 in c:\\users\\ake\\appdata\\roaming\\python\\python311\\site-packages (from python-dateutil->holidays<1,>=0.25->prophet) (1.16.0)\n",
      "Requirement already satisfied: colorama in c:\\users\\ake\\appdata\\roaming\\python\\python311\\site-packages (from tqdm>=4.36.1->prophet) (0.4.6)\n"
     ]
    }
   ],
   "source": [
    "!pip install prophet"
   ]
  },
  {
   "cell_type": "code",
   "execution_count": 12,
   "id": "9dd6fecf-ae18-4f68-92b2-751bf042aa77",
   "metadata": {},
   "outputs": [],
   "source": [
    "import os\n",
    "import pandas as pd\n",
    "from prophet import Prophet\n",
    "import matplotlib.pyplot as plt\n",
    "from datetime import date\n",
    "\n",
    "if not os.path.exists('forecast_plots'):\n",
    "    os.makedirs('forecast_plots')"
   ]
  },
  {
   "cell_type": "code",
   "execution_count": 13,
   "id": "5be26848-1554-4e44-82a3-73053d9eb4b5",
   "metadata": {},
   "outputs": [
    {
     "name": "stdout",
     "output_type": "stream",
     "text": [
      "SKUs to forecast: ['SKU-001' 'SKU-002' 'SKU-003' 'SKU-004']\n"
     ]
    }
   ],
   "source": [
    "# --- 1. Load the sales data ---\n",
    "sales_df = pd.read_csv('sales_data.csv')\n",
    "\n",
    "# --- 2. Convert 'Date' to datetime objects and aggregate sales by date and SKU ---\n",
    "sales_df['Date'] = pd.to_datetime(sales_df['Date'])\n",
    "\n",
    "# Create a list of our unique SKUs to loop through\n",
    "skus_to_forecast = sales_df['SKU'].unique()\n",
    "print(f\"SKUs to forecast: {skus_to_forecast}\")\n",
    "\n",
    "# --- 3. Prepare an empty dataframe to store all our forecasts ---\n",
    "all_forecasts = pd.DataFrame()"
   ]
  },
  {
   "cell_type": "code",
   "execution_count": 14,
   "id": "d0375ad7-7fe7-4a27-81d4-3093c41fd27e",
   "metadata": {},
   "outputs": [
    {
     "name": "stdout",
     "output_type": "stream",
     "text": [
      "\n",
      "Forecasting for SKU: SKU-001\n"
     ]
    },
    {
     "name": "stderr",
     "output_type": "stream",
     "text": [
      "18:29:06 - cmdstanpy - INFO - Chain [1] start processing\n",
      "18:29:07 - cmdstanpy - INFO - Chain [1] done processing\n"
     ]
    },
    {
     "name": "stdout",
     "output_type": "stream",
     "text": [
      "Main forecast plot saved for SKU-001.\n",
      "Components plot saved for SKU-001.\n",
      "\n",
      "Forecasting for SKU: SKU-002\n"
     ]
    },
    {
     "name": "stderr",
     "output_type": "stream",
     "text": [
      "18:29:09 - cmdstanpy - INFO - Chain [1] start processing\n",
      "18:29:09 - cmdstanpy - INFO - Chain [1] done processing\n"
     ]
    },
    {
     "name": "stdout",
     "output_type": "stream",
     "text": [
      "Main forecast plot saved for SKU-002.\n",
      "Components plot saved for SKU-002.\n",
      "\n",
      "Forecasting for SKU: SKU-003\n"
     ]
    },
    {
     "name": "stderr",
     "output_type": "stream",
     "text": [
      "18:29:10 - cmdstanpy - INFO - Chain [1] start processing\n",
      "18:29:11 - cmdstanpy - INFO - Chain [1] done processing\n"
     ]
    },
    {
     "name": "stdout",
     "output_type": "stream",
     "text": [
      "Main forecast plot saved for SKU-003.\n",
      "Components plot saved for SKU-003.\n",
      "\n",
      "Forecasting for SKU: SKU-004\n",
      "Main forecast plot saved for SKU-004.\n",
      "Components plot saved for SKU-004.\n",
      "\n",
      "Comprehensive forecast data exported to 'all_forecasts.csv'\n"
     ]
    }
   ],
   "source": [
    "# Loop through each SKU\n",
    "for sku in skus_to_forecast:\n",
    "    print(f\"\\nForecasting for SKU: {sku}\")\n",
    "    \n",
    "    sku_sales_df = sales_df[sales_df['SKU'] == sku].copy()\n",
    "    sku_sales_daily = sku_sales_df.groupby('Date')['Quantity'].sum().reset_index()\n",
    "    \n",
    "    if len(sku_sales_daily) < 10:\n",
    "        print(f\"Skipping {sku} due to insufficient data.\")\n",
    "        continue\n",
    "\n",
    "    # Prepare data for Prophet\n",
    "    prophet_df = sku_sales_daily.rename(columns={'Date': 'ds', 'Quantity': 'y'})\n",
    "    \n",
    "    # Instantiate and fit the model\n",
    "    m = Prophet(yearly_seasonality=True, daily_seasonality=True)\n",
    "    m.fit(prophet_df)\n",
    "    \n",
    "    # Create future dataframe and generate forecast\n",
    "    future = m.make_future_dataframe(periods=180, freq='D')\n",
    "    forecast = m.predict(future)\n",
    "\n",
    "    # --- ENHANCED VISUALIZATION ---\n",
    "    # Create the main forecast plot with more detail\n",
    "    fig, ax = plt.subplots(figsize=(10, 6))\n",
    "    m.plot(forecast, ax=ax)\n",
    "    ax.set_title(f\"Sales Forecast for {sku}\", fontsize=16)\n",
    "    ax.set_xlabel(\"Date\")\n",
    "    ax.set_ylabel(\"Sales Quantity\")\n",
    "    ax.grid(True)\n",
    "    \n",
    "    # Save the main plot\n",
    "    plot_filename = f\"forecast_plots/sales_forecast_{sku}.png\"\n",
    "    fig.savefig(plot_filename)\n",
    "    plt.close(fig)\n",
    "    print(f\"Main forecast plot saved for {sku}.\")\n",
    "\n",
    "    # Plot and save the forecast components (trend, seasonality)\n",
    "    fig_components = m.plot_components(forecast)\n",
    "    components_filename = f\"forecast_plots/components_forecast_{sku}.png\"\n",
    "    fig_components.savefig(components_filename)\n",
    "    plt.close(fig_components)\n",
    "    print(f\"Components plot saved for {sku}.\")\n",
    "\n",
    "    # --- STORE THE ENHANCED FORECAST DATA ---\n",
    "    # Combine historical sales with the forecast for a comprehensive dataset\n",
    "    forecast_df = forecast[['ds', 'yhat', 'yhat_lower', 'yhat_upper']].copy()\n",
    "    forecast_df['SKU'] = sku\n",
    "    \n",
    "    # Merge with historical data to create a single table\n",
    "    prophet_df['y'] = prophet_df['y'].astype(float)\n",
    "    \n",
    "    full_data = pd.merge(forecast_df, prophet_df, on='ds', how='left')\n",
    "    all_forecasts = pd.concat([all_forecasts, full_data])\n",
    "\n",
    "# --- FINAL STEP: EXPORT THE COMPREHENSIVE FORECAST DATA ---\n",
    "all_forecasts['ds'] = all_forecasts['ds'].dt.date # Convert datetime to date for clean CSV\n",
    "all_forecasts.to_csv('all_forecasts.csv', index=False)\n",
    "print(\"\\nComprehensive forecast data exported to 'all_forecasts.csv'\")"
   ]
  },
  {
   "cell_type": "code",
   "execution_count": null,
   "id": "f5f3ea00-6ce8-47ae-9863-395252f03dc9",
   "metadata": {},
   "outputs": [],
   "source": []
  }
 ],
 "metadata": {
  "kernelspec": {
   "display_name": "Python 3 (ipykernel)",
   "language": "python",
   "name": "python3"
  },
  "language_info": {
   "codemirror_mode": {
    "name": "ipython",
    "version": 3
   },
   "file_extension": ".py",
   "mimetype": "text/x-python",
   "name": "python",
   "nbconvert_exporter": "python",
   "pygments_lexer": "ipython3",
   "version": "3.11.4"
  }
 },
 "nbformat": 4,
 "nbformat_minor": 5
}
